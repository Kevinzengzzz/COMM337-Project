{
 "cells": [
  {
   "cell_type": "markdown",
   "id": "ed57612d",
   "metadata": {},
   "source": [
    "# Question D\n"
   ]
  },
  {
   "cell_type": "markdown",
   "id": "21a17b73",
   "metadata": {},
   "source": [
    "### Sentiment Analysis"
   ]
  },
  {
   "cell_type": "code",
   "execution_count": 1,
   "id": "7ddee61d",
   "metadata": {},
   "outputs": [
    {
     "name": "stdout",
     "output_type": "stream",
     "text": [
      "Requirement already satisfied: textblob in d:\\anaconda\\lib\\site-packages (0.17.1)\n",
      "Requirement already satisfied: nltk>=3.1 in d:\\anaconda\\lib\\site-packages (from textblob) (3.8.1)\n",
      "Requirement already satisfied: click in d:\\anaconda\\lib\\site-packages (from nltk>=3.1->textblob) (8.0.4)\n",
      "Requirement already satisfied: joblib in d:\\anaconda\\lib\\site-packages (from nltk>=3.1->textblob) (1.2.0)\n",
      "Requirement already satisfied: regex>=2021.8.3 in d:\\anaconda\\lib\\site-packages (from nltk>=3.1->textblob) (2022.7.9)\n",
      "Requirement already satisfied: tqdm in d:\\anaconda\\lib\\site-packages (from nltk>=3.1->textblob) (4.65.0)\n",
      "Requirement already satisfied: colorama in d:\\anaconda\\lib\\site-packages (from click->nltk>=3.1->textblob) (0.4.6)\n"
     ]
    }
   ],
   "source": [
    "# install textblob\n",
    "!pip install textblob\n",
    "from textblob import TextBlob"
   ]
  },
  {
   "cell_type": "code",
   "execution_count": 2,
   "id": "54763b8b",
   "metadata": {},
   "outputs": [
    {
     "data": {
      "text/html": [
       "<div>\n",
       "<style scoped>\n",
       "    .dataframe tbody tr th:only-of-type {\n",
       "        vertical-align: middle;\n",
       "    }\n",
       "\n",
       "    .dataframe tbody tr th {\n",
       "        vertical-align: top;\n",
       "    }\n",
       "\n",
       "    .dataframe thead th {\n",
       "        text-align: right;\n",
       "    }\n",
       "</style>\n",
       "<table border=\"1\" class=\"dataframe\">\n",
       "  <thead>\n",
       "    <tr style=\"text-align: right;\">\n",
       "      <th></th>\n",
       "      <th>Unnamed: 0</th>\n",
       "      <th>tweet_text</th>\n",
       "      <th>user_screen_name</th>\n",
       "      <th>user_name</th>\n",
       "      <th>user_location</th>\n",
       "      <th>user_followers_count</th>\n",
       "      <th>user_friends_count</th>\n",
       "      <th>user_listed_count</th>\n",
       "      <th>user_favourites_count</th>\n",
       "      <th>tweet_created_at</th>\n",
       "      <th>...</th>\n",
       "      <th>source_user_listed_count</th>\n",
       "      <th>source_user_favourites_count</th>\n",
       "      <th>source_tweet_created_at</th>\n",
       "      <th>source_tweet_id</th>\n",
       "      <th>source_tweet_source</th>\n",
       "      <th>source_tweet_lang</th>\n",
       "      <th>source_tweet_quote_count</th>\n",
       "      <th>source_tweet_reply_count</th>\n",
       "      <th>source_tweet_retweet_count</th>\n",
       "      <th>source_tweet_favorite_count</th>\n",
       "    </tr>\n",
       "  </thead>\n",
       "  <tbody>\n",
       "    <tr>\n",
       "      <th>0</th>\n",
       "      <td>0</td>\n",
       "      <td>Man I wish I could just say shit and get money...</td>\n",
       "      <td>DakDread</td>\n",
       "      <td>DAK</td>\n",
       "      <td>NaN</td>\n",
       "      <td>2729</td>\n",
       "      <td>765</td>\n",
       "      <td>20</td>\n",
       "      <td>44427</td>\n",
       "      <td>Thu Oct 07 20:56:44 +0000 2021</td>\n",
       "      <td>...</td>\n",
       "      <td>NaN</td>\n",
       "      <td>NaN</td>\n",
       "      <td>NaN</td>\n",
       "      <td>NaN</td>\n",
       "      <td>NaN</td>\n",
       "      <td>NaN</td>\n",
       "      <td>NaN</td>\n",
       "      <td>NaN</td>\n",
       "      <td>NaN</td>\n",
       "      <td>NaN</td>\n",
       "    </tr>\n",
       "    <tr>\n",
       "      <th>1</th>\n",
       "      <td>1</td>\n",
       "      <td>RT @InsideTheMagic: Sister Act 3 Gets High Sch...</td>\n",
       "      <td>thevapingfiend</td>\n",
       "      <td>nic</td>\n",
       "      <td>NaN</td>\n",
       "      <td>54</td>\n",
       "      <td>2244</td>\n",
       "      <td>0</td>\n",
       "      <td>562</td>\n",
       "      <td>Thu Oct 07 20:56:44 +0000 2021</td>\n",
       "      <td>...</td>\n",
       "      <td>1609.0</td>\n",
       "      <td>1064.0</td>\n",
       "      <td>Thu Oct 07 20:45:03 +0000 2021</td>\n",
       "      <td>1.446215e+18</td>\n",
       "      <td>&lt;a href=\"https://buffer.com\" rel=\"nofollow\"&gt;Bu...</td>\n",
       "      <td>en</td>\n",
       "      <td>0.0</td>\n",
       "      <td>0.0</td>\n",
       "      <td>1.0</td>\n",
       "      <td>4.0</td>\n",
       "    </tr>\n",
       "    <tr>\n",
       "      <th>2</th>\n",
       "      <td>2</td>\n",
       "      <td>RT @essrose: Very excited about two of the gre...</td>\n",
       "      <td>LolNoNom</td>\n",
       "      <td>[He/Him] Nom</td>\n",
       "      <td>NaN</td>\n",
       "      <td>590</td>\n",
       "      <td>786</td>\n",
       "      <td>7</td>\n",
       "      <td>40075</td>\n",
       "      <td>Thu Oct 07 20:56:45 +0000 2021</td>\n",
       "      <td>...</td>\n",
       "      <td>164.0</td>\n",
       "      <td>20312.0</td>\n",
       "      <td>Thu Oct 07 20:55:15 +0000 2021</td>\n",
       "      <td>1.446218e+18</td>\n",
       "      <td>&lt;a href=\"https://mobile.twitter.com\" rel=\"nofo...</td>\n",
       "      <td>en</td>\n",
       "      <td>2.0</td>\n",
       "      <td>0.0</td>\n",
       "      <td>1.0</td>\n",
       "      <td>5.0</td>\n",
       "    </tr>\n",
       "    <tr>\n",
       "      <th>3</th>\n",
       "      <td>3</td>\n",
       "      <td>RT @KiddBreaker1: Disney Movie Scenes vs. Thei...</td>\n",
       "      <td>_RealDragonX_</td>\n",
       "      <td>callmetrey (ADHD)#BLM</td>\n",
       "      <td>home</td>\n",
       "      <td>129</td>\n",
       "      <td>3670</td>\n",
       "      <td>2</td>\n",
       "      <td>248308</td>\n",
       "      <td>Thu Oct 07 20:56:45 +0000 2021</td>\n",
       "      <td>...</td>\n",
       "      <td>30.0</td>\n",
       "      <td>7131.0</td>\n",
       "      <td>Fri Oct 01 03:20:54 +0000 2021</td>\n",
       "      <td>1.443778e+18</td>\n",
       "      <td>&lt;a href=\"https://mobile.twitter.com\" rel=\"nofo...</td>\n",
       "      <td>en</td>\n",
       "      <td>324.0</td>\n",
       "      <td>175.0</td>\n",
       "      <td>10782.0</td>\n",
       "      <td>55695.0</td>\n",
       "    </tr>\n",
       "    <tr>\n",
       "      <th>4</th>\n",
       "      <td>4</td>\n",
       "      <td>RT @kateofbish: and now shes getting that disn...</td>\n",
       "      <td>nobodylaura18</td>\n",
       "      <td>laura  dickinson nov 5</td>\n",
       "      <td>seventeen | she/her</td>\n",
       "      <td>679</td>\n",
       "      <td>589</td>\n",
       "      <td>3</td>\n",
       "      <td>20222</td>\n",
       "      <td>Thu Oct 07 20:56:47 +0000 2021</td>\n",
       "      <td>...</td>\n",
       "      <td>16.0</td>\n",
       "      <td>18000.0</td>\n",
       "      <td>Thu Oct 07 20:07:42 +0000 2021</td>\n",
       "      <td>1.446206e+18</td>\n",
       "      <td>&lt;a href=\"http://twitter.com/download/iphone\" r...</td>\n",
       "      <td>en</td>\n",
       "      <td>0.0</td>\n",
       "      <td>1.0</td>\n",
       "      <td>2.0</td>\n",
       "      <td>16.0</td>\n",
       "    </tr>\n",
       "  </tbody>\n",
       "</table>\n",
       "<p>5 rows × 34 columns</p>\n",
       "</div>"
      ],
      "text/plain": [
       "   Unnamed: 0                                         tweet_text  \\\n",
       "0           0  Man I wish I could just say shit and get money...   \n",
       "1           1  RT @InsideTheMagic: Sister Act 3 Gets High Sch...   \n",
       "2           2  RT @essrose: Very excited about two of the gre...   \n",
       "3           3  RT @KiddBreaker1: Disney Movie Scenes vs. Thei...   \n",
       "4           4  RT @kateofbish: and now shes getting that disn...   \n",
       "\n",
       "  user_screen_name               user_name          user_location  \\\n",
       "0         DakDread                     DAK                    NaN   \n",
       "1   thevapingfiend                     nic                    NaN   \n",
       "2         LolNoNom            [He/Him] Nom                    NaN   \n",
       "3    _RealDragonX_   callmetrey (ADHD)#BLM                  home    \n",
       "4    nobodylaura18  laura  dickinson nov 5  seventeen | she/her     \n",
       "\n",
       "   user_followers_count  user_friends_count  user_listed_count  \\\n",
       "0                  2729                 765                 20   \n",
       "1                    54                2244                  0   \n",
       "2                   590                 786                  7   \n",
       "3                   129                3670                  2   \n",
       "4                   679                 589                  3   \n",
       "\n",
       "   user_favourites_count                tweet_created_at  ...  \\\n",
       "0                  44427  Thu Oct 07 20:56:44 +0000 2021  ...   \n",
       "1                    562  Thu Oct 07 20:56:44 +0000 2021  ...   \n",
       "2                  40075  Thu Oct 07 20:56:45 +0000 2021  ...   \n",
       "3                 248308  Thu Oct 07 20:56:45 +0000 2021  ...   \n",
       "4                  20222  Thu Oct 07 20:56:47 +0000 2021  ...   \n",
       "\n",
       "   source_user_listed_count source_user_favourites_count  \\\n",
       "0                       NaN                          NaN   \n",
       "1                    1609.0                       1064.0   \n",
       "2                     164.0                      20312.0   \n",
       "3                      30.0                       7131.0   \n",
       "4                      16.0                      18000.0   \n",
       "\n",
       "          source_tweet_created_at  source_tweet_id  \\\n",
       "0                             NaN              NaN   \n",
       "1  Thu Oct 07 20:45:03 +0000 2021     1.446215e+18   \n",
       "2  Thu Oct 07 20:55:15 +0000 2021     1.446218e+18   \n",
       "3  Fri Oct 01 03:20:54 +0000 2021     1.443778e+18   \n",
       "4  Thu Oct 07 20:07:42 +0000 2021     1.446206e+18   \n",
       "\n",
       "                                 source_tweet_source  source_tweet_lang  \\\n",
       "0                                                NaN                NaN   \n",
       "1  <a href=\"https://buffer.com\" rel=\"nofollow\">Bu...                 en   \n",
       "2  <a href=\"https://mobile.twitter.com\" rel=\"nofo...                 en   \n",
       "3  <a href=\"https://mobile.twitter.com\" rel=\"nofo...                 en   \n",
       "4  <a href=\"http://twitter.com/download/iphone\" r...                 en   \n",
       "\n",
       "   source_tweet_quote_count  source_tweet_reply_count  \\\n",
       "0                       NaN                       NaN   \n",
       "1                       0.0                       0.0   \n",
       "2                       2.0                       0.0   \n",
       "3                     324.0                     175.0   \n",
       "4                       0.0                       1.0   \n",
       "\n",
       "  source_tweet_retweet_count source_tweet_favorite_count  \n",
       "0                        NaN                         NaN  \n",
       "1                        1.0                         4.0  \n",
       "2                        1.0                         5.0  \n",
       "3                    10782.0                     55695.0  \n",
       "4                        2.0                        16.0  \n",
       "\n",
       "[5 rows x 34 columns]"
      ]
     },
     "execution_count": 2,
     "metadata": {},
     "output_type": "execute_result"
    }
   ],
   "source": [
    "#open file\n",
    "import pandas as pd\n",
    "df=pd.read_csv('tweets_disney_5000.csv')\n",
    "df.head()"
   ]
  },
  {
   "cell_type": "code",
   "execution_count": 3,
   "id": "60e2f4ef",
   "metadata": {},
   "outputs": [
    {
     "data": {
      "text/plain": [
       "5000"
      ]
     },
     "execution_count": 3,
     "metadata": {},
     "output_type": "execute_result"
    }
   ],
   "source": [
    "#get the text of tweets in list\n",
    "tweet_list=df['tweet_text'].tolist()\n",
    "len(tweet_list)\n",
    "#But still one question here: does one tweet only have one sentence?\n",
    "#OK, that doesn't matter"
   ]
  },
  {
   "cell_type": "code",
   "execution_count": 12,
   "id": "50fcb7bc",
   "metadata": {},
   "outputs": [
    {
     "name": "stdout",
     "output_type": "stream",
     "text": [
      "The average polarity and subjectivity scores=0.06672,0.37303\n"
     ]
    }
   ],
   "source": [
    "#analysis the polarity and subjectivity scores\n",
    "pol=[]\n",
    "sub=[]\n",
    "for tweets in tweet_list:\n",
    "    sentiments=TextBlob(tweets).sentiment\n",
    "    pol.append(sentiments.polarity)\n",
    "    sub.append(sentiments.subjectivity)\n",
    "pol_average=round(sum(pol)/5000,5)\n",
    "sub_average=round(sum(sub)/5000,5)\n",
    "print('The average polarity and subjectivity scores={},{}'.format(pol_average,sub_average))"
   ]
  },
  {
   "cell_type": "code",
   "execution_count": 8,
   "id": "cdf99ded",
   "metadata": {},
   "outputs": [
    {
     "data": {
      "image/png": "[encoded data removed]",
      "text/plain": [
       "<Figure size 640x480 with 1 Axes>"
      ]
     },
     "metadata": {},
     "output_type": "display_data"
    },
    {
     "data": {
      "image/png": "[encoded data removed]",
      "text/plain": [
       "<Figure size 640x480 with 1 Axes>"
      ]
     },
     "metadata": {},
     "output_type": "display_data"
    }
   ],
   "source": [
    "#visualize the sentiment scores\n",
    "import matplotlib.pyplot as plt\n",
    "plt.hist(sub, bins=10)\n",
    "plt.xlabel('subjectivity score')\n",
    "plt.ylabel('sentence count')\n",
    "plt.grid(True)\n",
    "plt.savefig('subjectivity.pdf')\n",
    "plt.show()\n",
    "\n",
    "plt.hist(pol, bins=10)\n",
    "plt.xlabel('polarity score')\n",
    "plt.ylabel('sentence count')\n",
    "plt.grid(True)\n",
    "plt.savefig('polarity.pdf')\n",
    "plt.show()"
   ]
  },
  {
   "cell_type": "code",
   "execution_count": null,
   "id": "132165da",
   "metadata": {},
   "outputs": [],
   "source": []
  }
 ],
 "metadata": {
  "kernelspec": {
   "display_name": "Python 3 (ipykernel)",
   "language": "python",
   "name": "python3"
  },
  "language_info": {
   "codemirror_mode": {
    "name": "ipython",
    "version": 3
   },
   "file_extension": ".py",
   "mimetype": "text/x-python",
   "name": "python",
   "nbconvert_exporter": "python",
   "pygments_lexer": "ipython3",
   "version": "3.11.4"
  }
 },
 "nbformat": 4,
 "nbformat_minor": 5
}
